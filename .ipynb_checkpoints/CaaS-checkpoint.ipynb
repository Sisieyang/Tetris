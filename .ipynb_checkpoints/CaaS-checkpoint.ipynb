{
 "cells": [
  {
   "cell_type": "code",
   "execution_count": 20,
   "metadata": {},
   "outputs": [],
   "source": [
    "import numpy as np\n",
    "import statsmodels.api as sm"
   ]
  },
  {
   "cell_type": "code",
   "execution_count": 21,
   "metadata": {},
   "outputs": [],
   "source": [
    "e = np.random.normal(size=1000)\n",
    "x1 = np.linspace(0, 10, 1000)\n",
    "x2 = np.random.randint(2, size=1000)\n",
    "\n",
    "X = np.column_stack((x1, x2))\n",
    "\n",
    "X = sm.add_constant(X)\n",
    "y = np.dot(X, beta) + e\n"
   ]
  },
  {
   "cell_type": "code",
   "execution_count": 22,
   "metadata": {},
   "outputs": [
    {
     "name": "stdout",
     "output_type": "stream",
     "text": [
      "                            OLS Regression Results                            \n",
      "==============================================================================\n",
      "Dep. Variable:                      y   R-squared:                       0.973\n",
      "Model:                            OLS   Adj. R-squared:                  0.972\n",
      "Method:                 Least Squares   F-statistic:                 1.765e+04\n",
      "Date:                Thu, 14 Jan 2021   Prob (F-statistic):               0.00\n",
      "Time:                        14:09:33   Log-Likelihood:                -1432.7\n",
      "No. Observations:                1000   AIC:                             2871.\n",
      "Df Residuals:                     997   BIC:                             2886.\n",
      "Df Model:                           2                                         \n",
      "Covariance Type:            nonrobust                                         \n",
      "==============================================================================\n",
      "                 coef    std err          t      P>|t|      [0.025      0.975]\n",
      "------------------------------------------------------------------------------\n",
      "const          0.8872      0.072     12.393      0.000       0.747       1.028\n",
      "x1             2.0003      0.011    179.922      0.000       1.978       2.022\n",
      "x2             3.1008      0.064     48.213      0.000       2.975       3.227\n",
      "==============================================================================\n",
      "Omnibus:                        5.976   Durbin-Watson:                   1.873\n",
      "Prob(Omnibus):                  0.050   Jarque-Bera (JB):                7.587\n",
      "Skew:                           0.034   Prob(JB):                       0.0225\n",
      "Kurtosis:                       3.421   Cond. No.                         15.0\n",
      "==============================================================================\n",
      "\n",
      "Notes:\n",
      "[1] Standard Errors assume that the covariance matrix of the errors is correctly specified.\n"
     ]
    }
   ],
   "source": [
    "model = sm.OLS(y, X)\n",
    "results = model.fit()\n",
    "print(results.summary())"
   ]
  },
  {
   "cell_type": "markdown",
   "metadata": {},
   "source": [
    "## Below shows the t statistics don't change after scale"
   ]
  },
  {
   "cell_type": "code",
   "execution_count": 23,
   "metadata": {},
   "outputs": [
    {
     "name": "stdout",
     "output_type": "stream",
     "text": [
      "                            OLS Regression Results                            \n",
      "==============================================================================\n",
      "Dep. Variable:                      y   R-squared:                       0.973\n",
      "Model:                            OLS   Adj. R-squared:                  0.972\n",
      "Method:                 Least Squares   F-statistic:                 1.765e+04\n",
      "Date:                Thu, 14 Jan 2021   Prob (F-statistic):               0.00\n",
      "Time:                        14:09:37   Log-Likelihood:                -1432.7\n",
      "No. Observations:                1000   AIC:                             2871.\n",
      "Df Residuals:                     997   BIC:                             2886.\n",
      "Df Model:                           2                                         \n",
      "Covariance Type:            nonrobust                                         \n",
      "==============================================================================\n",
      "                 coef    std err          t      P>|t|      [0.025      0.975]\n",
      "------------------------------------------------------------------------------\n",
      "const          0.8872      0.072     12.393      0.000       0.747       1.028\n",
      "x1             0.0200      0.000    179.922      0.000       0.020       0.020\n",
      "x2             0.0310      0.001     48.213      0.000       0.030       0.032\n",
      "==============================================================================\n",
      "Omnibus:                        5.976   Durbin-Watson:                   1.873\n",
      "Prob(Omnibus):                  0.050   Jarque-Bera (JB):                7.587\n",
      "Skew:                           0.034   Prob(JB):                       0.0225\n",
      "Kurtosis:                       3.421   Cond. No.                     1.29e+03\n",
      "==============================================================================\n",
      "\n",
      "Notes:\n",
      "[1] Standard Errors assume that the covariance matrix of the errors is correctly specified.\n",
      "[2] The condition number is large, 1.29e+03. This might indicate that there are\n",
      "strong multicollinearity or other numerical problems.\n"
     ]
    }
   ],
   "source": [
    "X = np.column_stack((100*x1, 100*x2))\n",
    "X = sm.add_constant(X)\n",
    "model = sm.OLS(y, X)\n",
    "results = model.fit()\n",
    "print(results.summary())"
   ]
  },
  {
   "cell_type": "markdown",
   "metadata": {},
   "source": [
    "## m*n grid problem, complexity is m *n"
   ]
  },
  {
   "cell_type": "code",
   "execution_count": 62,
   "metadata": {},
   "outputs": [],
   "source": [
    "def getPaths(m,n):\n",
    "    res = np.ones([m,n])\n",
    "    for i in range(1,m):\n",
    "        for j in range(1,n):\n",
    "            res[i][j] = res[i][j-1]+res[i-1][j]\n",
    "            print(res)\n",
    "    return res[-1][-1]"
   ]
  },
  {
   "cell_type": "code",
   "execution_count": 63,
   "metadata": {},
   "outputs": [
    {
     "name": "stdout",
     "output_type": "stream",
     "text": [
      "[[1. 1. 1.]\n",
      " [1. 2. 1.]\n",
      " [1. 1. 1.]\n",
      " [1. 1. 1.]]\n",
      "[[1. 1. 1.]\n",
      " [1. 2. 3.]\n",
      " [1. 1. 1.]\n",
      " [1. 1. 1.]]\n",
      "[[1. 1. 1.]\n",
      " [1. 2. 3.]\n",
      " [1. 3. 1.]\n",
      " [1. 1. 1.]]\n",
      "[[1. 1. 1.]\n",
      " [1. 2. 3.]\n",
      " [1. 3. 6.]\n",
      " [1. 1. 1.]]\n",
      "[[1. 1. 1.]\n",
      " [1. 2. 3.]\n",
      " [1. 3. 6.]\n",
      " [1. 4. 1.]]\n",
      "[[ 1.  1.  1.]\n",
      " [ 1.  2.  3.]\n",
      " [ 1.  3.  6.]\n",
      " [ 1.  4. 10.]]\n"
     ]
    },
    {
     "data": {
      "text/plain": [
       "10.0"
      ]
     },
     "execution_count": 63,
     "metadata": {},
     "output_type": "execute_result"
    }
   ],
   "source": [
    "getPaths(4,3)"
   ]
  },
  {
   "cell_type": "code",
   "execution_count": 66,
   "metadata": {},
   "outputs": [],
   "source": [
    "# to save the space\n",
    "def getPaths(m,n):\n",
    "    res = [1]*m\n",
    "    for j in range(n-1):\n",
    "        for i in range(1,m):\n",
    "            res[i]=res[i-1]+res[i]\n",
    "            print(res)\n",
    "    return res[-1]"
   ]
  },
  {
   "cell_type": "code",
   "execution_count": 67,
   "metadata": {},
   "outputs": [
    {
     "name": "stdout",
     "output_type": "stream",
     "text": [
      "[1, 2, 1, 1]\n",
      "[1, 2, 3, 1]\n",
      "[1, 2, 3, 4]\n",
      "[1, 3, 3, 4]\n",
      "[1, 3, 6, 4]\n",
      "[1, 3, 6, 10]\n"
     ]
    },
    {
     "data": {
      "text/plain": [
       "10"
      ]
     },
     "execution_count": 67,
     "metadata": {},
     "output_type": "execute_result"
    }
   ],
   "source": [
    "getPaths(4,3)"
   ]
  }
 ],
 "metadata": {
  "kernelspec": {
   "display_name": "Python 3",
   "language": "python",
   "name": "python3"
  },
  "language_info": {
   "codemirror_mode": {
    "name": "ipython",
    "version": 3
   },
   "file_extension": ".py",
   "mimetype": "text/x-python",
   "name": "python",
   "nbconvert_exporter": "python",
   "pygments_lexer": "ipython3",
   "version": "3.7.9"
  }
 },
 "nbformat": 4,
 "nbformat_minor": 4
}
