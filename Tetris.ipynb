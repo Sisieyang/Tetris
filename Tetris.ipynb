{
 "cells": [
  {
   "cell_type": "code",
   "execution_count": 6,
   "metadata": {},
   "outputs": [],
   "source": [
    "import numpy as np\n",
    "\n",
    "def getWidth(arr):\n",
    "    prev = np.ones(arr[0])\n",
    "    for n in arr[1:]:\n",
    "        if n>len(prev):\n",
    "            width = np.r_[prev,np.zeros(n-len(prev))] + np.ones(n)\n",
    "        else:\n",
    "            width = np.r_[np.ones(n),np.zeros(len(prev)-n)] + prev\n",
    "        prev = width\n",
    "    return width\n",
    "\n",
    "def solveTetris(arr):\n",
    "    #other squares can have similar mapping\n",
    "    L_cases = [[[0,1,1],[1,3]], \n",
    "               [[2,0], [1,1,2]],\n",
    "               [[0,0,0], [3,1]],\n",
    "               [[0,0],[2,1,1]]]\n",
    "    \n",
    "    width = list(getWidth(arr))\n",
    "    print(\"orignal width\", width)\n",
    "    \n",
    "    #only when width is 12, it could diminish\n",
    "    res = 0\n",
    "    \n",
    "    for min_loc, height in L_cases:\n",
    "        print(\"min_loc:\", min_loc, \"height:\", height)\n",
    "        square_len = len(min_loc)\n",
    "        i=0\n",
    "        while i+square_len<=len(arr):\n",
    "            curwidth = width[:]\n",
    "            \n",
    "            pos = np.array(arr[i:i+square_len]) - np.array(min_loc)\n",
    "            lowest_pos = max(pos) #the lowest pos tetris at \n",
    "            \n",
    "            for j, w in enumerate(height):\n",
    "                if lowest_pos+j>=len(curwidth):\n",
    "                    # new mini square on top of existing \n",
    "                    curwidth.append(w)\n",
    "                else:\n",
    "                    curwidth[lowest_pos+j] += w\n",
    "            print(i, \"lowest_pos:\", lowest_pos, curwidth, \"curres:\", curwidth.count(12))\n",
    "            res = max(res, curwidth.count(12))\n",
    "            i += 1\n",
    "        \n",
    "    return res\n"
   ]
  },
  {
   "cell_type": "code",
   "execution_count": 7,
   "metadata": {},
   "outputs": [
    {
     "name": "stdout",
     "output_type": "stream",
     "text": [
      "orignal width [11.0, 11.0, 10.0, 8.0, 6.0, 4.0]\n",
      "min_loc: [0, 1, 1] height: [1, 3]\n",
      "0 lowest_pos: 3 [11.0, 11.0, 10.0, 9.0, 9.0, 4.0] curres: 0\n",
      "1 lowest_pos: 4 [11.0, 11.0, 10.0, 8.0, 7.0, 7.0] curres: 0\n",
      "2 lowest_pos: 5 [11.0, 11.0, 10.0, 8.0, 6.0, 5.0, 3] curres: 0\n",
      "3 lowest_pos: 5 [11.0, 11.0, 10.0, 8.0, 6.0, 5.0, 3] curres: 0\n",
      "4 lowest_pos: 6 [11.0, 11.0, 10.0, 8.0, 6.0, 4.0, 1, 3] curres: 0\n",
      "5 lowest_pos: 5 [11.0, 11.0, 10.0, 8.0, 6.0, 5.0, 3] curres: 0\n",
      "6 lowest_pos: 5 [11.0, 11.0, 10.0, 8.0, 6.0, 5.0, 3] curres: 0\n",
      "7 lowest_pos: 6 [11.0, 11.0, 10.0, 8.0, 6.0, 4.0, 1, 3] curres: 0\n",
      "8 lowest_pos: 5 [11.0, 11.0, 10.0, 8.0, 6.0, 5.0, 3] curres: 0\n",
      "9 lowest_pos: 5 [11.0, 11.0, 10.0, 8.0, 6.0, 5.0, 3] curres: 0\n",
      "min_loc: [2, 0] height: [1, 1, 2]\n",
      "0 lowest_pos: 4 [11.0, 11.0, 10.0, 8.0, 7.0, 5.0, 2] curres: 0\n",
      "1 lowest_pos: 4 [11.0, 11.0, 10.0, 8.0, 7.0, 5.0, 2] curres: 0\n",
      "2 lowest_pos: 5 [11.0, 11.0, 10.0, 8.0, 6.0, 5.0, 1, 2] curres: 0\n",
      "3 lowest_pos: 6 [11.0, 11.0, 10.0, 8.0, 6.0, 4.0, 1, 1, 2] curres: 0\n",
      "4 lowest_pos: 4 [11.0, 11.0, 10.0, 8.0, 7.0, 5.0, 2] curres: 0\n",
      "5 lowest_pos: 0 [12.0, 12.0, 12.0, 8.0, 6.0, 4.0] curres: 3\n",
      "6 lowest_pos: 6 [11.0, 11.0, 10.0, 8.0, 6.0, 4.0, 1, 1, 2] curres: 0\n",
      "7 lowest_pos: 5 [11.0, 11.0, 10.0, 8.0, 6.0, 5.0, 1, 2] curres: 0\n",
      "8 lowest_pos: 3 [11.0, 11.0, 10.0, 9.0, 7.0, 6.0] curres: 0\n",
      "9 lowest_pos: 6 [11.0, 11.0, 10.0, 8.0, 6.0, 4.0, 1, 1, 2] curres: 0\n",
      "10 lowest_pos: 6 [11.0, 11.0, 10.0, 8.0, 6.0, 4.0, 1, 1, 2] curres: 0\n",
      "min_loc: [0, 0, 0] height: [3, 1]\n",
      "0 lowest_pos: 4 [11.0, 11.0, 10.0, 8.0, 9.0, 5.0] curres: 0\n",
      "1 lowest_pos: 5 [11.0, 11.0, 10.0, 8.0, 6.0, 7.0, 1] curres: 0\n",
      "2 lowest_pos: 6 [11.0, 11.0, 10.0, 8.0, 6.0, 4.0, 3, 1] curres: 0\n",
      "3 lowest_pos: 6 [11.0, 11.0, 10.0, 8.0, 6.0, 4.0, 3, 1] curres: 0\n",
      "4 lowest_pos: 6 [11.0, 11.0, 10.0, 8.0, 6.0, 4.0, 3, 1] curres: 0\n",
      "5 lowest_pos: 6 [11.0, 11.0, 10.0, 8.0, 6.0, 4.0, 3, 1] curres: 0\n",
      "6 lowest_pos: 6 [11.0, 11.0, 10.0, 8.0, 6.0, 4.0, 3, 1] curres: 0\n",
      "7 lowest_pos: 6 [11.0, 11.0, 10.0, 8.0, 6.0, 4.0, 3, 1] curres: 0\n",
      "8 lowest_pos: 6 [11.0, 11.0, 10.0, 8.0, 6.0, 4.0, 3, 1] curres: 0\n",
      "9 lowest_pos: 6 [11.0, 11.0, 10.0, 8.0, 6.0, 4.0, 3, 1] curres: 0\n",
      "min_loc: [0, 0] height: [2, 1, 1]\n",
      "0 lowest_pos: 4 [11.0, 11.0, 10.0, 8.0, 8.0, 5.0, 1] curres: 0\n",
      "1 lowest_pos: 4 [11.0, 11.0, 10.0, 8.0, 8.0, 5.0, 1] curres: 0\n",
      "2 lowest_pos: 5 [11.0, 11.0, 10.0, 8.0, 6.0, 6.0, 1, 1] curres: 0\n",
      "3 lowest_pos: 6 [11.0, 11.0, 10.0, 8.0, 6.0, 4.0, 2, 1, 1] curres: 0\n",
      "4 lowest_pos: 6 [11.0, 11.0, 10.0, 8.0, 6.0, 4.0, 2, 1, 1] curres: 0\n",
      "5 lowest_pos: 2 [11.0, 11.0, 12.0, 9.0, 7.0, 4.0] curres: 1\n",
      "6 lowest_pos: 6 [11.0, 11.0, 10.0, 8.0, 6.0, 4.0, 2, 1, 1] curres: 0\n",
      "7 lowest_pos: 6 [11.0, 11.0, 10.0, 8.0, 6.0, 4.0, 2, 1, 1] curres: 0\n",
      "8 lowest_pos: 5 [11.0, 11.0, 10.0, 8.0, 6.0, 6.0, 1, 1] curres: 0\n",
      "9 lowest_pos: 6 [11.0, 11.0, 10.0, 8.0, 6.0, 4.0, 2, 1, 1] curres: 0\n",
      "10 lowest_pos: 6 [11.0, 11.0, 10.0, 8.0, 6.0, 4.0, 2, 1, 1] curres: 0\n"
     ]
    },
    {
     "data": {
      "text/plain": [
       "3"
      ]
     },
     "execution_count": 7,
     "metadata": {},
     "output_type": "execute_result"
    }
   ],
   "source": [
    "solveTetris([3,4,4,5,6,2,0,6,5,3,6,6])"
   ]
  },
  {
   "cell_type": "code",
   "execution_count": 8,
   "metadata": {},
   "outputs": [
    {
     "name": "stdout",
     "output_type": "stream",
     "text": [
      "orignal width [11.0, 10.0, 10.0, 8.0, 6.0, 4.0]\n",
      "min_loc: [0, 1, 1] height: [1, 3]\n",
      "0 lowest_pos: 3 [11.0, 10.0, 10.0, 9.0, 9.0, 4.0] curres: 0\n",
      "1 lowest_pos: 4 [11.0, 10.0, 10.0, 8.0, 7.0, 7.0] curres: 0\n",
      "2 lowest_pos: 5 [11.0, 10.0, 10.0, 8.0, 6.0, 5.0, 3] curres: 0\n",
      "3 lowest_pos: 5 [11.0, 10.0, 10.0, 8.0, 6.0, 5.0, 3] curres: 0\n",
      "4 lowest_pos: 6 [11.0, 10.0, 10.0, 8.0, 6.0, 4.0, 1, 3] curres: 0\n",
      "5 lowest_pos: 5 [11.0, 10.0, 10.0, 8.0, 6.0, 5.0, 3] curres: 0\n",
      "6 lowest_pos: 5 [11.0, 10.0, 10.0, 8.0, 6.0, 5.0, 3] curres: 0\n",
      "7 lowest_pos: 6 [11.0, 10.0, 10.0, 8.0, 6.0, 4.0, 1, 3] curres: 0\n",
      "8 lowest_pos: 5 [11.0, 10.0, 10.0, 8.0, 6.0, 5.0, 3] curres: 0\n",
      "9 lowest_pos: 5 [11.0, 10.0, 10.0, 8.0, 6.0, 5.0, 3] curres: 0\n",
      "min_loc: [2, 0] height: [1, 1, 2]\n",
      "0 lowest_pos: 4 [11.0, 10.0, 10.0, 8.0, 7.0, 5.0, 2] curres: 0\n",
      "1 lowest_pos: 4 [11.0, 10.0, 10.0, 8.0, 7.0, 5.0, 2] curres: 0\n",
      "2 lowest_pos: 5 [11.0, 10.0, 10.0, 8.0, 6.0, 5.0, 1, 2] curres: 0\n",
      "3 lowest_pos: 6 [11.0, 10.0, 10.0, 8.0, 6.0, 4.0, 1, 1, 2] curres: 0\n",
      "4 lowest_pos: 4 [11.0, 10.0, 10.0, 8.0, 7.0, 5.0, 2] curres: 0\n",
      "5 lowest_pos: 0 [12.0, 11.0, 12.0, 8.0, 6.0, 4.0] curres: 2\n",
      "6 lowest_pos: 6 [11.0, 10.0, 10.0, 8.0, 6.0, 4.0, 1, 1, 2] curres: 0\n",
      "7 lowest_pos: 5 [11.0, 10.0, 10.0, 8.0, 6.0, 5.0, 1, 2] curres: 0\n",
      "8 lowest_pos: 3 [11.0, 10.0, 10.0, 9.0, 7.0, 6.0] curres: 0\n",
      "9 lowest_pos: 6 [11.0, 10.0, 10.0, 8.0, 6.0, 4.0, 1, 1, 2] curres: 0\n",
      "10 lowest_pos: 6 [11.0, 10.0, 10.0, 8.0, 6.0, 4.0, 1, 1, 2] curres: 0\n",
      "min_loc: [0, 0, 0] height: [3, 1]\n",
      "0 lowest_pos: 4 [11.0, 10.0, 10.0, 8.0, 9.0, 5.0] curres: 0\n",
      "1 lowest_pos: 5 [11.0, 10.0, 10.0, 8.0, 6.0, 7.0, 1] curres: 0\n",
      "2 lowest_pos: 6 [11.0, 10.0, 10.0, 8.0, 6.0, 4.0, 3, 1] curres: 0\n",
      "3 lowest_pos: 6 [11.0, 10.0, 10.0, 8.0, 6.0, 4.0, 3, 1] curres: 0\n",
      "4 lowest_pos: 6 [11.0, 10.0, 10.0, 8.0, 6.0, 4.0, 3, 1] curres: 0\n",
      "5 lowest_pos: 6 [11.0, 10.0, 10.0, 8.0, 6.0, 4.0, 3, 1] curres: 0\n",
      "6 lowest_pos: 6 [11.0, 10.0, 10.0, 8.0, 6.0, 4.0, 3, 1] curres: 0\n",
      "7 lowest_pos: 6 [11.0, 10.0, 10.0, 8.0, 6.0, 4.0, 3, 1] curres: 0\n",
      "8 lowest_pos: 6 [11.0, 10.0, 10.0, 8.0, 6.0, 4.0, 3, 1] curres: 0\n",
      "9 lowest_pos: 6 [11.0, 10.0, 10.0, 8.0, 6.0, 4.0, 3, 1] curres: 0\n",
      "min_loc: [0, 0] height: [2, 1, 1]\n",
      "0 lowest_pos: 4 [11.0, 10.0, 10.0, 8.0, 8.0, 5.0, 1] curres: 0\n",
      "1 lowest_pos: 4 [11.0, 10.0, 10.0, 8.0, 8.0, 5.0, 1] curres: 0\n",
      "2 lowest_pos: 5 [11.0, 10.0, 10.0, 8.0, 6.0, 6.0, 1, 1] curres: 0\n",
      "3 lowest_pos: 6 [11.0, 10.0, 10.0, 8.0, 6.0, 4.0, 2, 1, 1] curres: 0\n",
      "4 lowest_pos: 6 [11.0, 10.0, 10.0, 8.0, 6.0, 4.0, 2, 1, 1] curres: 0\n",
      "5 lowest_pos: 1 [11.0, 12.0, 11.0, 9.0, 6.0, 4.0] curres: 1\n",
      "6 lowest_pos: 6 [11.0, 10.0, 10.0, 8.0, 6.0, 4.0, 2, 1, 1] curres: 0\n",
      "7 lowest_pos: 6 [11.0, 10.0, 10.0, 8.0, 6.0, 4.0, 2, 1, 1] curres: 0\n",
      "8 lowest_pos: 5 [11.0, 10.0, 10.0, 8.0, 6.0, 6.0, 1, 1] curres: 0\n",
      "9 lowest_pos: 6 [11.0, 10.0, 10.0, 8.0, 6.0, 4.0, 2, 1, 1] curres: 0\n",
      "10 lowest_pos: 6 [11.0, 10.0, 10.0, 8.0, 6.0, 4.0, 2, 1, 1] curres: 0\n"
     ]
    },
    {
     "data": {
      "text/plain": [
       "2"
      ]
     },
     "execution_count": 8,
     "metadata": {},
     "output_type": "execute_result"
    }
   ],
   "source": [
    "solveTetris([3,4,4,5,6,1,0,6,5,3,6,6]) #it should return 2"
   ]
  },
  {
   "cell_type": "code",
   "execution_count": 10,
   "metadata": {},
   "outputs": [
    {
     "name": "stdout",
     "output_type": "stream",
     "text": [
      "orignal width [10.0, 10.0, 10.0, 8.0, 6.0, 4.0]\n",
      "min_loc: [0, 1, 1] height: [1, 3]\n",
      "0 lowest_pos: 3 [10.0, 10.0, 10.0, 9.0, 9.0, 4.0] curres: 0\n",
      "1 lowest_pos: 4 [10.0, 10.0, 10.0, 8.0, 7.0, 7.0] curres: 0\n",
      "2 lowest_pos: 5 [10.0, 10.0, 10.0, 8.0, 6.0, 5.0, 3] curres: 0\n",
      "3 lowest_pos: 5 [10.0, 10.0, 10.0, 8.0, 6.0, 5.0, 3] curres: 0\n",
      "4 lowest_pos: 6 [10.0, 10.0, 10.0, 8.0, 6.0, 4.0, 1, 3] curres: 0\n",
      "5 lowest_pos: 5 [10.0, 10.0, 10.0, 8.0, 6.0, 5.0, 3] curres: 0\n",
      "6 lowest_pos: 5 [10.0, 10.0, 10.0, 8.0, 6.0, 5.0, 3] curres: 0\n",
      "7 lowest_pos: 6 [10.0, 10.0, 10.0, 8.0, 6.0, 4.0, 1, 3] curres: 0\n",
      "8 lowest_pos: 5 [10.0, 10.0, 10.0, 8.0, 6.0, 5.0, 3] curres: 0\n",
      "9 lowest_pos: 5 [10.0, 10.0, 10.0, 8.0, 6.0, 5.0, 3] curres: 0\n",
      "min_loc: [2, 0] height: [1, 1, 2]\n",
      "0 lowest_pos: 4 [10.0, 10.0, 10.0, 8.0, 7.0, 5.0, 2] curres: 0\n",
      "1 lowest_pos: 4 [10.0, 10.0, 10.0, 8.0, 7.0, 5.0, 2] curres: 0\n",
      "2 lowest_pos: 5 [10.0, 10.0, 10.0, 8.0, 6.0, 5.0, 1, 2] curres: 0\n",
      "3 lowest_pos: 6 [10.0, 10.0, 10.0, 8.0, 6.0, 4.0, 1, 1, 2] curres: 0\n",
      "4 lowest_pos: 4 [10.0, 10.0, 10.0, 8.0, 7.0, 5.0, 2] curres: 0\n",
      "5 lowest_pos: 0 [11.0, 11.0, 12.0, 8.0, 6.0, 4.0] curres: 1\n",
      "6 lowest_pos: 6 [10.0, 10.0, 10.0, 8.0, 6.0, 4.0, 1, 1, 2] curres: 0\n",
      "7 lowest_pos: 5 [10.0, 10.0, 10.0, 8.0, 6.0, 5.0, 1, 2] curres: 0\n",
      "8 lowest_pos: 3 [10.0, 10.0, 10.0, 9.0, 7.0, 6.0] curres: 0\n",
      "9 lowest_pos: 6 [10.0, 10.0, 10.0, 8.0, 6.0, 4.0, 1, 1, 2] curres: 0\n",
      "10 lowest_pos: 6 [10.0, 10.0, 10.0, 8.0, 6.0, 4.0, 1, 1, 2] curres: 0\n",
      "min_loc: [0, 0, 0] height: [3, 1]\n",
      "0 lowest_pos: 4 [10.0, 10.0, 10.0, 8.0, 9.0, 5.0] curres: 0\n",
      "1 lowest_pos: 5 [10.0, 10.0, 10.0, 8.0, 6.0, 7.0, 1] curres: 0\n",
      "2 lowest_pos: 6 [10.0, 10.0, 10.0, 8.0, 6.0, 4.0, 3, 1] curres: 0\n",
      "3 lowest_pos: 6 [10.0, 10.0, 10.0, 8.0, 6.0, 4.0, 3, 1] curres: 0\n",
      "4 lowest_pos: 6 [10.0, 10.0, 10.0, 8.0, 6.0, 4.0, 3, 1] curres: 0\n",
      "5 lowest_pos: 6 [10.0, 10.0, 10.0, 8.0, 6.0, 4.0, 3, 1] curres: 0\n",
      "6 lowest_pos: 6 [10.0, 10.0, 10.0, 8.0, 6.0, 4.0, 3, 1] curres: 0\n",
      "7 lowest_pos: 6 [10.0, 10.0, 10.0, 8.0, 6.0, 4.0, 3, 1] curres: 0\n",
      "8 lowest_pos: 6 [10.0, 10.0, 10.0, 8.0, 6.0, 4.0, 3, 1] curres: 0\n",
      "9 lowest_pos: 6 [10.0, 10.0, 10.0, 8.0, 6.0, 4.0, 3, 1] curres: 0\n",
      "min_loc: [0, 0] height: [2, 1, 1]\n",
      "0 lowest_pos: 4 [10.0, 10.0, 10.0, 8.0, 8.0, 5.0, 1] curres: 0\n",
      "1 lowest_pos: 4 [10.0, 10.0, 10.0, 8.0, 8.0, 5.0, 1] curres: 0\n",
      "2 lowest_pos: 5 [10.0, 10.0, 10.0, 8.0, 6.0, 6.0, 1, 1] curres: 0\n",
      "3 lowest_pos: 6 [10.0, 10.0, 10.0, 8.0, 6.0, 4.0, 2, 1, 1] curres: 0\n",
      "4 lowest_pos: 6 [10.0, 10.0, 10.0, 8.0, 6.0, 4.0, 2, 1, 1] curres: 0\n",
      "5 lowest_pos: 0 [12.0, 11.0, 11.0, 8.0, 6.0, 4.0] curres: 1\n",
      "6 lowest_pos: 6 [10.0, 10.0, 10.0, 8.0, 6.0, 4.0, 2, 1, 1] curres: 0\n",
      "7 lowest_pos: 6 [10.0, 10.0, 10.0, 8.0, 6.0, 4.0, 2, 1, 1] curres: 0\n",
      "8 lowest_pos: 5 [10.0, 10.0, 10.0, 8.0, 6.0, 6.0, 1, 1] curres: 0\n",
      "9 lowest_pos: 6 [10.0, 10.0, 10.0, 8.0, 6.0, 4.0, 2, 1, 1] curres: 0\n",
      "10 lowest_pos: 6 [10.0, 10.0, 10.0, 8.0, 6.0, 4.0, 2, 1, 1] curres: 0\n"
     ]
    },
    {
     "data": {
      "text/plain": [
       "1"
      ]
     },
     "execution_count": 10,
     "metadata": {},
     "output_type": "execute_result"
    }
   ],
   "source": [
    "solveTetris([3,4,4,5,6,0,0,6,5,3,6,6]) #it should return 1"
   ]
  },
  {
   "cell_type": "code",
   "execution_count": 12,
   "metadata": {},
   "outputs": [
    {
     "name": "stdout",
     "output_type": "stream",
     "text": [
      "orignal width [9.0, 9.0, 9.0, 7.0, 5.0, 3.0]\n",
      "min_loc: [0, 1, 1] height: [1, 3]\n",
      "0 lowest_pos: 3 [9.0, 9.0, 9.0, 8.0, 8.0, 3.0] curres: 0\n",
      "1 lowest_pos: 4 [9.0, 9.0, 9.0, 7.0, 6.0, 6.0] curres: 0\n",
      "2 lowest_pos: 4 [9.0, 9.0, 9.0, 7.0, 6.0, 6.0] curres: 0\n",
      "3 lowest_pos: 5 [9.0, 9.0, 9.0, 7.0, 5.0, 4.0, 3] curres: 0\n",
      "4 lowest_pos: 0 [10.0, 12.0, 9.0, 7.0, 5.0, 3.0] curres: 1\n",
      "5 lowest_pos: 5 [9.0, 9.0, 9.0, 7.0, 5.0, 4.0, 3] curres: 0\n",
      "6 lowest_pos: 5 [9.0, 9.0, 9.0, 7.0, 5.0, 4.0, 3] curres: 0\n",
      "7 lowest_pos: 6 [9.0, 9.0, 9.0, 7.0, 5.0, 3.0, 1, 3] curres: 0\n",
      "8 lowest_pos: 5 [9.0, 9.0, 9.0, 7.0, 5.0, 4.0, 3] curres: 0\n",
      "9 lowest_pos: 5 [9.0, 9.0, 9.0, 7.0, 5.0, 4.0, 3] curres: 0\n",
      "min_loc: [2, 0] height: [1, 1, 2]\n",
      "0 lowest_pos: 4 [9.0, 9.0, 9.0, 7.0, 6.0, 4.0, 2] curres: 0\n",
      "1 lowest_pos: 4 [9.0, 9.0, 9.0, 7.0, 6.0, 4.0, 2] curres: 0\n",
      "2 lowest_pos: 5 [9.0, 9.0, 9.0, 7.0, 5.0, 4.0, 1, 2] curres: 0\n",
      "3 lowest_pos: 3 [9.0, 9.0, 9.0, 8.0, 6.0, 5.0] curres: 0\n",
      "4 lowest_pos: 0 [10.0, 10.0, 11.0, 7.0, 5.0, 3.0] curres: 0\n",
      "5 lowest_pos: 0 [10.0, 10.0, 11.0, 7.0, 5.0, 3.0] curres: 0\n",
      "6 lowest_pos: 6 [9.0, 9.0, 9.0, 7.0, 5.0, 3.0, 1, 1, 2] curres: 0\n",
      "7 lowest_pos: 5 [9.0, 9.0, 9.0, 7.0, 5.0, 4.0, 1, 2] curres: 0\n",
      "8 lowest_pos: 3 [9.0, 9.0, 9.0, 8.0, 6.0, 5.0] curres: 0\n",
      "9 lowest_pos: 6 [9.0, 9.0, 9.0, 7.0, 5.0, 3.0, 1, 1, 2] curres: 0\n",
      "10 lowest_pos: 6 [9.0, 9.0, 9.0, 7.0, 5.0, 3.0, 1, 1, 2] curres: 0\n",
      "min_loc: [0, 0, 0] height: [3, 1]\n",
      "0 lowest_pos: 4 [9.0, 9.0, 9.0, 7.0, 8.0, 4.0] curres: 0\n",
      "1 lowest_pos: 5 [9.0, 9.0, 9.0, 7.0, 5.0, 6.0, 1] curres: 0\n",
      "2 lowest_pos: 5 [9.0, 9.0, 9.0, 7.0, 5.0, 6.0, 1] curres: 0\n",
      "3 lowest_pos: 5 [9.0, 9.0, 9.0, 7.0, 5.0, 6.0, 1] curres: 0\n",
      "4 lowest_pos: 0 [12.0, 10.0, 9.0, 7.0, 5.0, 3.0] curres: 1\n",
      "5 lowest_pos: 6 [9.0, 9.0, 9.0, 7.0, 5.0, 3.0, 3, 1] curres: 0\n",
      "6 lowest_pos: 6 [9.0, 9.0, 9.0, 7.0, 5.0, 3.0, 3, 1] curres: 0\n",
      "7 lowest_pos: 6 [9.0, 9.0, 9.0, 7.0, 5.0, 3.0, 3, 1] curres: 0\n",
      "8 lowest_pos: 6 [9.0, 9.0, 9.0, 7.0, 5.0, 3.0, 3, 1] curres: 0\n",
      "9 lowest_pos: 6 [9.0, 9.0, 9.0, 7.0, 5.0, 3.0, 3, 1] curres: 0\n",
      "min_loc: [0, 0] height: [2, 1, 1]\n",
      "0 lowest_pos: 4 [9.0, 9.0, 9.0, 7.0, 7.0, 4.0, 1] curres: 0\n",
      "1 lowest_pos: 4 [9.0, 9.0, 9.0, 7.0, 7.0, 4.0, 1] curres: 0\n",
      "2 lowest_pos: 5 [9.0, 9.0, 9.0, 7.0, 5.0, 5.0, 1, 1] curres: 0\n",
      "3 lowest_pos: 5 [9.0, 9.0, 9.0, 7.0, 5.0, 5.0, 1, 1] curres: 0\n",
      "4 lowest_pos: 0 [11.0, 10.0, 10.0, 7.0, 5.0, 3.0] curres: 0\n",
      "5 lowest_pos: 0 [11.0, 10.0, 10.0, 7.0, 5.0, 3.0] curres: 0\n",
      "6 lowest_pos: 6 [9.0, 9.0, 9.0, 7.0, 5.0, 3.0, 2, 1, 1] curres: 0\n",
      "7 lowest_pos: 6 [9.0, 9.0, 9.0, 7.0, 5.0, 3.0, 2, 1, 1] curres: 0\n",
      "8 lowest_pos: 5 [9.0, 9.0, 9.0, 7.0, 5.0, 5.0, 1, 1] curres: 0\n",
      "9 lowest_pos: 6 [9.0, 9.0, 9.0, 7.0, 5.0, 3.0, 2, 1, 1] curres: 0\n",
      "10 lowest_pos: 6 [9.0, 9.0, 9.0, 7.0, 5.0, 3.0, 2, 1, 1] curres: 0\n"
     ]
    },
    {
     "data": {
      "text/plain": [
       "1"
      ]
     },
     "execution_count": 12,
     "metadata": {},
     "output_type": "execute_result"
    }
   ],
   "source": [
    "solveTetris([3,4,4,5,0,0,0,6,5,3,6,6]) #it should return 1 after rotate"
   ]
  },
  {
   "cell_type": "code",
   "execution_count": 13,
   "metadata": {},
   "outputs": [
    {
     "name": "stdout",
     "output_type": "stream",
     "text": [
      "orignal width [8.0, 8.0, 8.0, 6.0, 4.0, 3.0]\n",
      "min_loc: [0, 1, 1] height: [1, 3]\n",
      "0 lowest_pos: 3 [8.0, 8.0, 8.0, 7.0, 7.0, 3.0] curres: 0\n",
      "1 lowest_pos: 4 [8.0, 8.0, 8.0, 6.0, 5.0, 6.0] curres: 0\n",
      "2 lowest_pos: 4 [8.0, 8.0, 8.0, 6.0, 5.0, 6.0] curres: 0\n",
      "3 lowest_pos: 0 [9.0, 11.0, 8.0, 6.0, 4.0, 3.0] curres: 0\n",
      "4 lowest_pos: 0 [9.0, 11.0, 8.0, 6.0, 4.0, 3.0] curres: 0\n",
      "5 lowest_pos: 5 [8.0, 8.0, 8.0, 6.0, 4.0, 4.0, 3] curres: 0\n",
      "6 lowest_pos: 5 [8.0, 8.0, 8.0, 6.0, 4.0, 4.0, 3] curres: 0\n",
      "7 lowest_pos: 6 [8.0, 8.0, 8.0, 6.0, 4.0, 3.0, 1, 3] curres: 0\n",
      "8 lowest_pos: 5 [8.0, 8.0, 8.0, 6.0, 4.0, 4.0, 3] curres: 0\n",
      "9 lowest_pos: 5 [8.0, 8.0, 8.0, 6.0, 4.0, 4.0, 3] curres: 0\n",
      "min_loc: [2, 0] height: [1, 1, 2]\n",
      "0 lowest_pos: 4 [8.0, 8.0, 8.0, 6.0, 5.0, 4.0, 2] curres: 0\n",
      "1 lowest_pos: 4 [8.0, 8.0, 8.0, 6.0, 5.0, 4.0, 2] curres: 0\n",
      "2 lowest_pos: 2 [8.0, 8.0, 9.0, 7.0, 6.0, 3.0] curres: 0\n",
      "3 lowest_pos: 0 [9.0, 9.0, 10.0, 6.0, 4.0, 3.0] curres: 0\n",
      "4 lowest_pos: 0 [9.0, 9.0, 10.0, 6.0, 4.0, 3.0] curres: 0\n",
      "5 lowest_pos: 0 [9.0, 9.0, 10.0, 6.0, 4.0, 3.0] curres: 0\n",
      "6 lowest_pos: 6 [8.0, 8.0, 8.0, 6.0, 4.0, 3.0, 1, 1, 2] curres: 0\n",
      "7 lowest_pos: 5 [8.0, 8.0, 8.0, 6.0, 4.0, 4.0, 1, 2] curres: 0\n",
      "8 lowest_pos: 3 [8.0, 8.0, 8.0, 7.0, 5.0, 5.0] curres: 0\n",
      "9 lowest_pos: 6 [8.0, 8.0, 8.0, 6.0, 4.0, 3.0, 1, 1, 2] curres: 0\n",
      "10 lowest_pos: 6 [8.0, 8.0, 8.0, 6.0, 4.0, 3.0, 1, 1, 2] curres: 0\n",
      "min_loc: [0, 0, 0] height: [3, 1]\n",
      "0 lowest_pos: 4 [8.0, 8.0, 8.0, 6.0, 7.0, 4.0] curres: 0\n",
      "1 lowest_pos: 4 [8.0, 8.0, 8.0, 6.0, 7.0, 4.0] curres: 0\n",
      "2 lowest_pos: 4 [8.0, 8.0, 8.0, 6.0, 7.0, 4.0] curres: 0\n",
      "3 lowest_pos: 0 [11.0, 9.0, 8.0, 6.0, 4.0, 3.0] curres: 0\n",
      "4 lowest_pos: 0 [11.0, 9.0, 8.0, 6.0, 4.0, 3.0] curres: 0\n",
      "5 lowest_pos: 6 [8.0, 8.0, 8.0, 6.0, 4.0, 3.0, 3, 1] curres: 0\n",
      "6 lowest_pos: 6 [8.0, 8.0, 8.0, 6.0, 4.0, 3.0, 3, 1] curres: 0\n",
      "7 lowest_pos: 6 [8.0, 8.0, 8.0, 6.0, 4.0, 3.0, 3, 1] curres: 0\n",
      "8 lowest_pos: 6 [8.0, 8.0, 8.0, 6.0, 4.0, 3.0, 3, 1] curres: 0\n",
      "9 lowest_pos: 6 [8.0, 8.0, 8.0, 6.0, 4.0, 3.0, 3, 1] curres: 0\n",
      "min_loc: [0, 0] height: [2, 1, 1]\n",
      "0 lowest_pos: 4 [8.0, 8.0, 8.0, 6.0, 6.0, 4.0, 1] curres: 0\n",
      "1 lowest_pos: 4 [8.0, 8.0, 8.0, 6.0, 6.0, 4.0, 1] curres: 0\n",
      "2 lowest_pos: 4 [8.0, 8.0, 8.0, 6.0, 6.0, 4.0, 1] curres: 0\n",
      "3 lowest_pos: 0 [10.0, 9.0, 9.0, 6.0, 4.0, 3.0] curres: 0\n",
      "4 lowest_pos: 0 [10.0, 9.0, 9.0, 6.0, 4.0, 3.0] curres: 0\n",
      "5 lowest_pos: 0 [10.0, 9.0, 9.0, 6.0, 4.0, 3.0] curres: 0\n",
      "6 lowest_pos: 6 [8.0, 8.0, 8.0, 6.0, 4.0, 3.0, 2, 1, 1] curres: 0\n",
      "7 lowest_pos: 6 [8.0, 8.0, 8.0, 6.0, 4.0, 3.0, 2, 1, 1] curres: 0\n",
      "8 lowest_pos: 5 [8.0, 8.0, 8.0, 6.0, 4.0, 5.0, 1, 1] curres: 0\n",
      "9 lowest_pos: 6 [8.0, 8.0, 8.0, 6.0, 4.0, 3.0, 2, 1, 1] curres: 0\n",
      "10 lowest_pos: 6 [8.0, 8.0, 8.0, 6.0, 4.0, 3.0, 2, 1, 1] curres: 0\n"
     ]
    },
    {
     "data": {
      "text/plain": [
       "0"
      ]
     },
     "execution_count": 13,
     "metadata": {},
     "output_type": "execute_result"
    }
   ],
   "source": [
    "solveTetris([3,4,4,0,0,0,0,6,5,3,6,6]) #0"
   ]
  }
 ],
 "metadata": {
  "kernelspec": {
   "display_name": "Python 3",
   "language": "python",
   "name": "python3"
  },
  "language_info": {
   "codemirror_mode": {
    "name": "ipython",
    "version": 3
   },
   "file_extension": ".py",
   "mimetype": "text/x-python",
   "name": "python",
   "nbconvert_exporter": "python",
   "pygments_lexer": "ipython3",
   "version": "3.7.9"
  }
 },
 "nbformat": 4,
 "nbformat_minor": 4
}
