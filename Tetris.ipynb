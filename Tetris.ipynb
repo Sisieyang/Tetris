{
 "cells": [
  {
   "cell_type": "code",
   "execution_count": 27,
   "metadata": {},
   "outputs": [],
   "source": [
    "import numpy as np\n",
    "\n",
    "def getWidth(arr):\n",
    "    #get the width in each layer\n",
    "    prev = np.ones(arr[0])\n",
    "    for n in arr[1:]:\n",
    "        if n>len(prev):\n",
    "            width = np.r_[prev,np.zeros(n-len(prev))] + np.ones(n)\n",
    "        else:\n",
    "            width = np.r_[np.ones(n),np.zeros(len(prev)-n)] + prev\n",
    "        prev = width\n",
    "    return width\n",
    "\n",
    "def solveTetris(arr):\n",
    "    #other squares can have similar mapping\n",
    "    L_cases = [[[0,1,1],[1,3]], \n",
    "               [[2,0], [1,1,2]],\n",
    "               [[0,0,0], [3,1]],\n",
    "               [[0,0],[2,1,1]]]\n",
    "    \n",
    "    width = list(getWidth(arr))\n",
    "    print(\"orignal width\", width)\n",
    "    \n",
    "    #only when width is 12, the layer could diminish\n",
    "    res = 0\n",
    "    \n",
    "    for min_loc, add_width in L_cases:\n",
    "        print(\"min_loc:\", min_loc, \"add_width:\", add_width)\n",
    "        square_len = len(min_loc)\n",
    "        i=0\n",
    "        while i+square_len<=len(arr):\n",
    "            pos = np.array(arr[i:i+square_len]) - np.array(min_loc)\n",
    "            lowest_pos = max(pos) #the lowest pos tetris at \n",
    "            \n",
    "            subres = 0 \n",
    "            for j, w in enumerate(add_width):\n",
    "                # 12 means full at current layer\n",
    "                if lowest_pos+j<len(width) and width[lowest_pos+j] + w == 12:\n",
    "                    subres += 1\n",
    "            \n",
    "            res = max(res, subres)\n",
    "            i += 1\n",
    "        \n",
    "    return res\n"
   ]
  },
  {
   "cell_type": "code",
   "execution_count": 28,
   "metadata": {},
   "outputs": [
    {
     "name": "stdout",
     "output_type": "stream",
     "text": [
      "orignal width [11.0, 11.0, 10.0, 8.0, 6.0, 4.0]\n",
      "min_loc: [0, 1, 1] add_width: [1, 3]\n",
      "min_loc: [2, 0] add_width: [1, 1, 2]\n",
      "min_loc: [0, 0, 0] add_width: [3, 1]\n",
      "min_loc: [0, 0] add_width: [2, 1, 1]\n"
     ]
    },
    {
     "data": {
      "text/plain": [
       "3"
      ]
     },
     "execution_count": 28,
     "metadata": {},
     "output_type": "execute_result"
    }
   ],
   "source": [
    "solveTetris([3,4,4,5,6,2,0,6,5,3,6,6])"
   ]
  },
  {
   "cell_type": "code",
   "execution_count": 23,
   "metadata": {},
   "outputs": [
    {
     "name": "stdout",
     "output_type": "stream",
     "text": [
      "orignal width [11.0, 10.0, 10.0, 8.0, 6.0, 4.0]\n",
      "min_loc: [0, 1, 1] add_width: [1, 3]\n",
      "min_loc: [2, 0] add_width: [1, 1, 2]\n",
      "min_loc: [0, 0, 0] add_width: [3, 1]\n",
      "min_loc: [0, 0] add_width: [2, 1, 1]\n"
     ]
    },
    {
     "data": {
      "text/plain": [
       "2"
      ]
     },
     "execution_count": 23,
     "metadata": {},
     "output_type": "execute_result"
    }
   ],
   "source": [
    "solveTetris([3,4,4,5,6,1,0,6,5,3,6,6]) #it should return 2"
   ]
  },
  {
   "cell_type": "code",
   "execution_count": 24,
   "metadata": {},
   "outputs": [
    {
     "name": "stdout",
     "output_type": "stream",
     "text": [
      "orignal width [10.0, 10.0, 10.0, 8.0, 6.0, 4.0]\n",
      "min_loc: [0, 1, 1] add_width: [1, 3]\n",
      "min_loc: [2, 0] add_width: [1, 1, 2]\n",
      "min_loc: [0, 0, 0] add_width: [3, 1]\n",
      "min_loc: [0, 0] add_width: [2, 1, 1]\n"
     ]
    },
    {
     "data": {
      "text/plain": [
       "1"
      ]
     },
     "execution_count": 24,
     "metadata": {},
     "output_type": "execute_result"
    }
   ],
   "source": [
    "solveTetris([3,4,4,5,6,0,0,6,5,3,6,6]) #it should return 1"
   ]
  },
  {
   "cell_type": "code",
   "execution_count": 25,
   "metadata": {},
   "outputs": [
    {
     "name": "stdout",
     "output_type": "stream",
     "text": [
      "orignal width [9.0, 9.0, 9.0, 7.0, 5.0, 3.0]\n",
      "min_loc: [0, 1, 1] add_width: [1, 3]\n",
      "min_loc: [2, 0] add_width: [1, 1, 2]\n",
      "min_loc: [0, 0, 0] add_width: [3, 1]\n",
      "min_loc: [0, 0] add_width: [2, 1, 1]\n"
     ]
    },
    {
     "data": {
      "text/plain": [
       "1"
      ]
     },
     "execution_count": 25,
     "metadata": {},
     "output_type": "execute_result"
    }
   ],
   "source": [
    "solveTetris([3,4,4,5,0,0,0,6,5,3,6,6]) #it should return 1 after rotate"
   ]
  },
  {
   "cell_type": "code",
   "execution_count": 26,
   "metadata": {},
   "outputs": [
    {
     "name": "stdout",
     "output_type": "stream",
     "text": [
      "orignal width [8.0, 8.0, 8.0, 6.0, 4.0, 3.0]\n",
      "min_loc: [0, 1, 1] add_width: [1, 3]\n",
      "min_loc: [2, 0] add_width: [1, 1, 2]\n",
      "min_loc: [0, 0, 0] add_width: [3, 1]\n",
      "min_loc: [0, 0] add_width: [2, 1, 1]\n"
     ]
    },
    {
     "data": {
      "text/plain": [
       "0"
      ]
     },
     "execution_count": 26,
     "metadata": {},
     "output_type": "execute_result"
    }
   ],
   "source": [
    "solveTetris([3,4,4,0,0,0,0,6,5,3,6,6]) #0"
   ]
  }
 ],
 "metadata": {
  "kernelspec": {
   "display_name": "Python 3",
   "language": "python",
   "name": "python3"
  },
  "language_info": {
   "codemirror_mode": {
    "name": "ipython",
    "version": 3
   },
   "file_extension": ".py",
   "mimetype": "text/x-python",
   "name": "python",
   "nbconvert_exporter": "python",
   "pygments_lexer": "ipython3",
   "version": "3.7.9"
  }
 },
 "nbformat": 4,
 "nbformat_minor": 4
}
